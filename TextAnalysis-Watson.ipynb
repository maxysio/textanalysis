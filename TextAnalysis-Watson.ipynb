{
  "nbformat": 4,
  "nbformat_minor": 0,
  "metadata": {
    "kernelspec": {
      "display_name": "Python 3",
      "language": "python",
      "name": "python3"
    },
    "language_info": {
      "codemirror_mode": {
        "name": "ipython",
        "version": 3
      },
      "file_extension": ".py",
      "mimetype": "text/x-python",
      "name": "python",
      "nbconvert_exporter": "python",
      "pygments_lexer": "ipython3",
      "version": "3.7.6"
    },
    "colab": {
      "name": "TextAnalysis-Watson.ipynb",
      "provenance": [],
      "include_colab_link": true
    }
  },
  "cells": [
    {
      "cell_type": "markdown",
      "metadata": {
        "id": "view-in-github",
        "colab_type": "text"
      },
      "source": [
        "<a href=\"https://colab.research.google.com/github/maxysio/textanalysis/blob/master/TextAnalysis-Watson.ipynb\" target=\"_parent\"><img src=\"https://colab.research.google.com/assets/colab-badge.svg\" alt=\"Open In Colab\"/></a>"
      ]
    },
    {
      "cell_type": "code",
      "metadata": {
        "id": "ZHROyl8WpCGS",
        "colab_type": "code",
        "colab": {}
      },
      "source": [
        "import json\n",
        "from ibm_watson import NaturalLanguageUnderstandingV1\n",
        "from ibm_watson.natural_language_understanding_v1 import Features, EntitiesOptions, KeywordsOptions, EmotionOptions, SentimentOptions, CategoriesOptions\n",
        "from ibm_cloud_sdk_core.authenticators import IAMAuthenticator"
      ],
      "execution_count": null,
      "outputs": []
    },
    {
      "cell_type": "code",
      "metadata": {
        "id": "dzAMQN2PpCGX",
        "colab_type": "code",
        "colab": {}
      },
      "source": [
        "# authenticator = IAMAuthenticator('USE YOUR AUTHENTICATION KEY HERE')\n",
        "service = NaturalLanguageUnderstandingV1(version='2019-07-12',authenticator=authenticator)\n",
        "service.set_service_url('https://gateway.watsonplatform.net/natural-language-understanding/api')"
      ],
      "execution_count": null,
      "outputs": []
    },
    {
      "cell_type": "code",
      "metadata": {
        "id": "mW31NerhpCGa",
        "colab_type": "code",
        "colab": {},
        "outputId": "ca9fa696-1468-4090-b24a-ad1d2dfdbf39"
      },
      "source": [
        "response = service.analyze(\n",
        "    text='Bruce Banner is the Hulk and Bruce Wayne is BATMAN! '\n",
        "    'Superman fears not Banner, but Wayne. www.apple.com',\n",
        "    features=Features(entities=EntitiesOptions(),\n",
        "                      keywords=KeywordsOptions(),\n",
        "                     )).get_result()\n",
        "\n",
        "print(json.dumps(response, indent=2))"
      ],
      "execution_count": null,
      "outputs": [
        {
          "output_type": "stream",
          "text": [
            "{\n",
            "  \"usage\": {\n",
            "    \"text_units\": 1,\n",
            "    \"text_characters\": 103,\n",
            "    \"features\": 2\n",
            "  },\n",
            "  \"language\": \"en\",\n",
            "  \"keywords\": [\n",
            "    {\n",
            "      \"text\": \"Bruce Banner\",\n",
            "      \"relevance\": 0.999938,\n",
            "      \"count\": 1\n",
            "    },\n",
            "    {\n",
            "      \"text\": \"Bruce Wayne\",\n",
            "      \"relevance\": 0.984803,\n",
            "      \"count\": 1\n",
            "    },\n",
            "    {\n",
            "      \"text\": \"Superman fears\",\n",
            "      \"relevance\": 0.974561,\n",
            "      \"count\": 1\n",
            "    },\n",
            "    {\n",
            "      \"text\": \"Hulk\",\n",
            "      \"relevance\": 0.691614,\n",
            "      \"count\": 1\n",
            "    },\n",
            "    {\n",
            "      \"text\": \"Banner\",\n",
            "      \"relevance\": 0.644681,\n",
            "      \"count\": 1\n",
            "    },\n",
            "    {\n",
            "      \"text\": \"BATMAN\",\n",
            "      \"relevance\": 0.568413,\n",
            "      \"count\": 1\n",
            "    },\n",
            "    {\n",
            "      \"text\": \"Wayne\",\n",
            "      \"relevance\": 0.54164,\n",
            "      \"count\": 1\n",
            "    }\n",
            "  ],\n",
            "  \"entities\": [\n",
            "    {\n",
            "      \"type\": \"Person\",\n",
            "      \"text\": \"Bruce Banner\",\n",
            "      \"relevance\": 0.954265,\n",
            "      \"count\": 1,\n",
            "      \"confidence\": 0.792978\n",
            "    },\n",
            "    {\n",
            "      \"type\": \"Person\",\n",
            "      \"text\": \"Bruce Wayne\",\n",
            "      \"relevance\": 0.682425,\n",
            "      \"count\": 1,\n",
            "      \"confidence\": 0.987981\n",
            "    },\n",
            "    {\n",
            "      \"type\": \"Movie\",\n",
            "      \"text\": \"Hulk\",\n",
            "      \"relevance\": 0.666171,\n",
            "      \"count\": 1,\n",
            "      \"confidence\": 0.689175\n",
            "    },\n",
            "    {\n",
            "      \"type\": \"Person\",\n",
            "      \"text\": \"BATMAN\",\n",
            "      \"relevance\": 0.448777,\n",
            "      \"count\": 1,\n",
            "      \"confidence\": 0.260864\n",
            "    },\n",
            "    {\n",
            "      \"type\": \"Person\",\n",
            "      \"text\": \"Wayne\",\n",
            "      \"relevance\": 0.136605,\n",
            "      \"count\": 1,\n",
            "      \"confidence\": 0.997147\n",
            "    }\n",
            "  ]\n",
            "}\n"
          ],
          "name": "stdout"
        }
      ]
    },
    {
      "cell_type": "code",
      "metadata": {
        "id": "tGvltQDcpCGd",
        "colab_type": "code",
        "colab": {}
      },
      "source": [
        "from json2html import *"
      ],
      "execution_count": null,
      "outputs": []
    },
    {
      "cell_type": "code",
      "metadata": {
        "id": "ZRg-fJFupCGg",
        "colab_type": "code",
        "colab": {},
        "outputId": "4cae2b1f-153b-4033-b757-ff519a1c6225"
      },
      "source": [
        "json2html.convert(json = json.dumps(response))"
      ],
      "execution_count": null,
      "outputs": [
        {
          "output_type": "execute_result",
          "data": {
            "text/plain": [
              "'<table border=\"1\"><tr><th>usage</th><td><table border=\"1\"><tr><th>text_units</th><td>1</td></tr><tr><th>text_characters</th><td>103</td></tr><tr><th>features</th><td>5</td></tr></table></td></tr><tr><th>sentiment</th><td><table border=\"1\"><tr><th>document</th><td><table border=\"1\"><tr><th>score</th><td>-0.491896</td></tr><tr><th>label</th><td>negative</td></tr></table></td></tr></table></td></tr><tr><th>language</th><td>en</td></tr><tr><th>keywords</th><td><table border=\"1\"><thead><tr><th>text</th><th>relevance</th><th>count</th></tr></thead><tbody><tr><td>Bruce Banner</td><td>0.999938</td><td>1</td></tr><tr><td>Bruce Wayne</td><td>0.984803</td><td>1</td></tr><tr><td>Superman fears</td><td>0.974561</td><td>1</td></tr><tr><td>Hulk</td><td>0.691614</td><td>1</td></tr><tr><td>Banner</td><td>0.644681</td><td>1</td></tr><tr><td>BATMAN</td><td>0.568413</td><td>1</td></tr><tr><td>Wayne</td><td>0.54164</td><td>1</td></tr></tbody></table></td></tr><tr><th>entities</th><td><table border=\"1\"><thead><tr><th>type</th><th>text</th><th>relevance</th><th>count</th><th>confidence</th></tr></thead><tbody><tr><td>Person</td><td>Bruce Banner</td><td>0.954265</td><td>1</td><td>0.792978</td></tr><tr><td>Person</td><td>Bruce Wayne</td><td>0.682425</td><td>1</td><td>0.987981</td></tr><tr><td>Movie</td><td>Hulk</td><td>0.666171</td><td>1</td><td>0.689175</td></tr><tr><td>Person</td><td>BATMAN</td><td>0.448777</td><td>1</td><td>0.260864</td></tr><tr><td>Person</td><td>Wayne</td><td>0.136605</td><td>1</td><td>0.997147</td></tr></tbody></table></td></tr><tr><th>emotion</th><td><table border=\"1\"><tr><th>document</th><td><table border=\"1\"><tr><th>emotion</th><td><table border=\"1\"><tr><th>sadness</th><td>0.101967</td></tr><tr><th>joy</th><td>0.304163</td></tr><tr><th>fear</th><td>0.065787</td></tr><tr><th>disgust</th><td>0.083401</td></tr><tr><th>anger</th><td>0.121029</td></tr></table></td></tr></table></td></tr></table></td></tr><tr><th>categories</th><td><table border=\"1\"><thead><tr><th>score</th><th>label</th></tr></thead><tbody><tr><td>0.982925</td><td>/art and entertainment/comics and animation/comics</td></tr></tbody></table></td></tr></table>'"
            ]
          },
          "metadata": {
            "tags": []
          },
          "execution_count": 30
        }
      ]
    },
    {
      "cell_type": "code",
      "metadata": {
        "id": "7cuZJYycpCGl",
        "colab_type": "code",
        "colab": {},
        "outputId": "d3a5443b-b20d-4645-a332-170c53b6a48e"
      },
      "source": [
        "response['keywords']"
      ],
      "execution_count": null,
      "outputs": [
        {
          "output_type": "execute_result",
          "data": {
            "text/plain": [
              "[{'text': 'Bruce Banner', 'relevance': 0.999938, 'count': 1},\n",
              " {'text': 'Bruce Wayne', 'relevance': 0.984803, 'count': 1},\n",
              " {'text': 'Superman fears', 'relevance': 0.974561, 'count': 1},\n",
              " {'text': 'Hulk', 'relevance': 0.691614, 'count': 1},\n",
              " {'text': 'Banner', 'relevance': 0.644681, 'count': 1},\n",
              " {'text': 'BATMAN', 'relevance': 0.568413, 'count': 1},\n",
              " {'text': 'Wayne', 'relevance': 0.54164, 'count': 1}]"
            ]
          },
          "metadata": {
            "tags": []
          },
          "execution_count": 12
        }
      ]
    },
    {
      "cell_type": "code",
      "metadata": {
        "id": "yy7D8pfdpCGp",
        "colab_type": "code",
        "colab": {},
        "outputId": "a21dd6d9-5c40-44e1-d909-89f1f052a731"
      },
      "source": [
        "for k in response['keywords']:\n",
        "    print(k['text'])\n",
        "    print(k['relevance'])"
      ],
      "execution_count": null,
      "outputs": [
        {
          "output_type": "stream",
          "text": [
            "Bruce Banner\n",
            "0.999938\n",
            "Bruce Wayne\n",
            "0.984803\n",
            "Superman fears\n",
            "0.974561\n",
            "Hulk\n",
            "0.691614\n",
            "Banner\n",
            "0.644681\n",
            "BATMAN\n",
            "0.568413\n",
            "Wayne\n",
            "0.54164\n"
          ],
          "name": "stdout"
        }
      ]
    },
    {
      "cell_type": "code",
      "metadata": {
        "id": "-gbv1c1RpCGs",
        "colab_type": "code",
        "colab": {}
      },
      "source": [
        ""
      ],
      "execution_count": null,
      "outputs": []
    }
  ]
}