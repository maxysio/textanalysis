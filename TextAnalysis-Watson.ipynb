{
 "cells": [
  {
   "cell_type": "code",
   "execution_count": 1,
   "metadata": {},
   "outputs": [],
   "source": [
    "import json\n",
    "from ibm_watson import NaturalLanguageUnderstandingV1\n",
    "from ibm_watson.natural_language_understanding_v1 import Features, EntitiesOptions, KeywordsOptions, EmotionOptions, SentimentOptions, CategoriesOptions\n",
    "from ibm_cloud_sdk_core.authenticators import IAMAuthenticator"
   ]
  },
  {
   "cell_type": "code",
   "execution_count": 2,
   "metadata": {},
   "outputs": [],
   "source": [
    "authenticator = IAMAuthenticator('EOdnNP5aovnentk_Qk-U_ZGQaQObsIzvZt0i7XeK1k8i')\n",
    "service = NaturalLanguageUnderstandingV1(version='2019-07-12',authenticator=authenticator)\n",
    "service.set_service_url('https://gateway.watsonplatform.net/natural-language-understanding/api')"
   ]
  },
  {
   "cell_type": "code",
   "execution_count": 4,
   "metadata": {},
   "outputs": [
    {
     "name": "stdout",
     "output_type": "stream",
     "text": [
      "{\n",
      "  \"usage\": {\n",
      "    \"text_units\": 1,\n",
      "    \"text_characters\": 103,\n",
      "    \"features\": 2\n",
      "  },\n",
      "  \"language\": \"en\",\n",
      "  \"keywords\": [\n",
      "    {\n",
      "      \"text\": \"Bruce Banner\",\n",
      "      \"relevance\": 0.999938,\n",
      "      \"count\": 1\n",
      "    },\n",
      "    {\n",
      "      \"text\": \"Bruce Wayne\",\n",
      "      \"relevance\": 0.984803,\n",
      "      \"count\": 1\n",
      "    },\n",
      "    {\n",
      "      \"text\": \"Superman fears\",\n",
      "      \"relevance\": 0.974561,\n",
      "      \"count\": 1\n",
      "    },\n",
      "    {\n",
      "      \"text\": \"Hulk\",\n",
      "      \"relevance\": 0.691614,\n",
      "      \"count\": 1\n",
      "    },\n",
      "    {\n",
      "      \"text\": \"Banner\",\n",
      "      \"relevance\": 0.644681,\n",
      "      \"count\": 1\n",
      "    },\n",
      "    {\n",
      "      \"text\": \"BATMAN\",\n",
      "      \"relevance\": 0.568413,\n",
      "      \"count\": 1\n",
      "    },\n",
      "    {\n",
      "      \"text\": \"Wayne\",\n",
      "      \"relevance\": 0.54164,\n",
      "      \"count\": 1\n",
      "    }\n",
      "  ],\n",
      "  \"entities\": [\n",
      "    {\n",
      "      \"type\": \"Person\",\n",
      "      \"text\": \"Bruce Banner\",\n",
      "      \"relevance\": 0.954265,\n",
      "      \"count\": 1,\n",
      "      \"confidence\": 0.792978\n",
      "    },\n",
      "    {\n",
      "      \"type\": \"Person\",\n",
      "      \"text\": \"Bruce Wayne\",\n",
      "      \"relevance\": 0.682425,\n",
      "      \"count\": 1,\n",
      "      \"confidence\": 0.987981\n",
      "    },\n",
      "    {\n",
      "      \"type\": \"Movie\",\n",
      "      \"text\": \"Hulk\",\n",
      "      \"relevance\": 0.666171,\n",
      "      \"count\": 1,\n",
      "      \"confidence\": 0.689175\n",
      "    },\n",
      "    {\n",
      "      \"type\": \"Person\",\n",
      "      \"text\": \"BATMAN\",\n",
      "      \"relevance\": 0.448777,\n",
      "      \"count\": 1,\n",
      "      \"confidence\": 0.260864\n",
      "    },\n",
      "    {\n",
      "      \"type\": \"Person\",\n",
      "      \"text\": \"Wayne\",\n",
      "      \"relevance\": 0.136605,\n",
      "      \"count\": 1,\n",
      "      \"confidence\": 0.997147\n",
      "    }\n",
      "  ]\n",
      "}\n"
     ]
    }
   ],
   "source": [
    "response = service.analyze(\n",
    "    text='Bruce Banner is the Hulk and Bruce Wayne is BATMAN! '\n",
    "    'Superman fears not Banner, but Wayne. www.apple.com',\n",
    "    features=Features(entities=EntitiesOptions(),\n",
    "                      keywords=KeywordsOptions(),\n",
    "                     )).get_result()\n",
    "\n",
    "print(json.dumps(response, indent=2))"
   ]
  },
  {
   "cell_type": "code",
   "execution_count": 29,
   "metadata": {},
   "outputs": [],
   "source": [
    "from json2html import *"
   ]
  },
  {
   "cell_type": "code",
   "execution_count": 30,
   "metadata": {},
   "outputs": [
    {
     "data": {
      "text/plain": [
       "'<table border=\"1\"><tr><th>usage</th><td><table border=\"1\"><tr><th>text_units</th><td>1</td></tr><tr><th>text_characters</th><td>103</td></tr><tr><th>features</th><td>5</td></tr></table></td></tr><tr><th>sentiment</th><td><table border=\"1\"><tr><th>document</th><td><table border=\"1\"><tr><th>score</th><td>-0.491896</td></tr><tr><th>label</th><td>negative</td></tr></table></td></tr></table></td></tr><tr><th>language</th><td>en</td></tr><tr><th>keywords</th><td><table border=\"1\"><thead><tr><th>text</th><th>relevance</th><th>count</th></tr></thead><tbody><tr><td>Bruce Banner</td><td>0.999938</td><td>1</td></tr><tr><td>Bruce Wayne</td><td>0.984803</td><td>1</td></tr><tr><td>Superman fears</td><td>0.974561</td><td>1</td></tr><tr><td>Hulk</td><td>0.691614</td><td>1</td></tr><tr><td>Banner</td><td>0.644681</td><td>1</td></tr><tr><td>BATMAN</td><td>0.568413</td><td>1</td></tr><tr><td>Wayne</td><td>0.54164</td><td>1</td></tr></tbody></table></td></tr><tr><th>entities</th><td><table border=\"1\"><thead><tr><th>type</th><th>text</th><th>relevance</th><th>count</th><th>confidence</th></tr></thead><tbody><tr><td>Person</td><td>Bruce Banner</td><td>0.954265</td><td>1</td><td>0.792978</td></tr><tr><td>Person</td><td>Bruce Wayne</td><td>0.682425</td><td>1</td><td>0.987981</td></tr><tr><td>Movie</td><td>Hulk</td><td>0.666171</td><td>1</td><td>0.689175</td></tr><tr><td>Person</td><td>BATMAN</td><td>0.448777</td><td>1</td><td>0.260864</td></tr><tr><td>Person</td><td>Wayne</td><td>0.136605</td><td>1</td><td>0.997147</td></tr></tbody></table></td></tr><tr><th>emotion</th><td><table border=\"1\"><tr><th>document</th><td><table border=\"1\"><tr><th>emotion</th><td><table border=\"1\"><tr><th>sadness</th><td>0.101967</td></tr><tr><th>joy</th><td>0.304163</td></tr><tr><th>fear</th><td>0.065787</td></tr><tr><th>disgust</th><td>0.083401</td></tr><tr><th>anger</th><td>0.121029</td></tr></table></td></tr></table></td></tr></table></td></tr><tr><th>categories</th><td><table border=\"1\"><thead><tr><th>score</th><th>label</th></tr></thead><tbody><tr><td>0.982925</td><td>/art and entertainment/comics and animation/comics</td></tr></tbody></table></td></tr></table>'"
      ]
     },
     "execution_count": 30,
     "metadata": {},
     "output_type": "execute_result"
    }
   ],
   "source": [
    "json2html.convert(json = json.dumps(response))"
   ]
  },
  {
   "cell_type": "code",
   "execution_count": 12,
   "metadata": {},
   "outputs": [
    {
     "data": {
      "text/plain": [
       "[{'text': 'Bruce Banner', 'relevance': 0.999938, 'count': 1},\n",
       " {'text': 'Bruce Wayne', 'relevance': 0.984803, 'count': 1},\n",
       " {'text': 'Superman fears', 'relevance': 0.974561, 'count': 1},\n",
       " {'text': 'Hulk', 'relevance': 0.691614, 'count': 1},\n",
       " {'text': 'Banner', 'relevance': 0.644681, 'count': 1},\n",
       " {'text': 'BATMAN', 'relevance': 0.568413, 'count': 1},\n",
       " {'text': 'Wayne', 'relevance': 0.54164, 'count': 1}]"
      ]
     },
     "execution_count": 12,
     "metadata": {},
     "output_type": "execute_result"
    }
   ],
   "source": [
    "response['keywords']"
   ]
  },
  {
   "cell_type": "code",
   "execution_count": 14,
   "metadata": {},
   "outputs": [
    {
     "name": "stdout",
     "output_type": "stream",
     "text": [
      "Bruce Banner\n",
      "0.999938\n",
      "Bruce Wayne\n",
      "0.984803\n",
      "Superman fears\n",
      "0.974561\n",
      "Hulk\n",
      "0.691614\n",
      "Banner\n",
      "0.644681\n",
      "BATMAN\n",
      "0.568413\n",
      "Wayne\n",
      "0.54164\n"
     ]
    }
   ],
   "source": [
    "for k in response['keywords']:\n",
    "    print(k['text'])\n",
    "    print(k['relevance'])"
   ]
  },
  {
   "cell_type": "code",
   "execution_count": null,
   "metadata": {},
   "outputs": [],
   "source": []
  }
 ],
 "metadata": {
  "kernelspec": {
   "display_name": "Python 3",
   "language": "python",
   "name": "python3"
  },
  "language_info": {
   "codemirror_mode": {
    "name": "ipython",
    "version": 3
   },
   "file_extension": ".py",
   "mimetype": "text/x-python",
   "name": "python",
   "nbconvert_exporter": "python",
   "pygments_lexer": "ipython3",
   "version": "3.7.6"
  }
 },
 "nbformat": 4,
 "nbformat_minor": 4
}
