{
  "nbformat": 4,
  "nbformat_minor": 0,
  "metadata": {
    "kernelspec": {
      "display_name": "Python 3",
      "language": "python",
      "name": "python3"
    },
    "language_info": {
      "codemirror_mode": {
        "name": "ipython",
        "version": 3
      },
      "file_extension": ".py",
      "mimetype": "text/x-python",
      "name": "python",
      "nbconvert_exporter": "python",
      "pygments_lexer": "ipython3",
      "version": "3.7.6"
    },
    "colab": {
      "name": "TextAnalysis-Azure.ipynb",
      "provenance": [],
      "include_colab_link": true
    }
  },
  "cells": [
    {
      "cell_type": "markdown",
      "metadata": {
        "id": "view-in-github",
        "colab_type": "text"
      },
      "source": [
        "<a href=\"https://colab.research.google.com/github/maxysio/textanalysis/blob/master/TextAnalysis-Azure.ipynb\" target=\"_parent\"><img src=\"https://colab.research.google.com/assets/colab-badge.svg\" alt=\"Open In Colab\"/></a>"
      ]
    },
    {
      "cell_type": "code",
      "metadata": {
        "id": "LVLfebpFozOo",
        "colab_type": "code",
        "colab": {}
      },
      "source": [
        "import requests\n",
        "# pprint is used to format the JSON response\n",
        "from pprint import pprint"
      ],
      "execution_count": null,
      "outputs": []
    },
    {
      "cell_type": "code",
      "metadata": {
        "id": "hW5nO9u8ozOt",
        "colab_type": "code",
        "colab": {}
      },
      "source": [
        "import os\n",
        "\n",
        "\n",
        "#subscription_key = \"USE YOUR KEY\"\n",
        "endpoint = \"https://resumtextanalytics.cognitiveservices.azure.com/\""
      ],
      "execution_count": null,
      "outputs": []
    },
    {
      "cell_type": "markdown",
      "metadata": {
        "id": "7XnapuXhozOx",
        "colab_type": "text"
      },
      "source": [
        "### Analyze Language"
      ]
    },
    {
      "cell_type": "code",
      "metadata": {
        "id": "ZY6TtZO1ozOz",
        "colab_type": "code",
        "colab": {}
      },
      "source": [
        "language_api_url = endpoint + \"/text/analytics/v2.1/languages\""
      ],
      "execution_count": null,
      "outputs": []
    },
    {
      "cell_type": "code",
      "metadata": {
        "id": "G_Or_4A4ozO2",
        "colab_type": "code",
        "colab": {}
      },
      "source": [
        "documents = {\"documents\": [\n",
        "    {\"id\": \"1\", \"text\": \"This is a document written in English.\"},\n",
        "    {\"id\": \"2\", \"text\": \"Este es un document escrito en Español.\"},\n",
        "    {\"id\": \"3\", \"text\": \"这是一个用中文写的文件\"}\n",
        "]}"
      ],
      "execution_count": null,
      "outputs": []
    },
    {
      "cell_type": "code",
      "metadata": {
        "id": "50EJ5UdoozO5",
        "colab_type": "code",
        "colab": {},
        "outputId": "73872c34-b013-4c95-9d5f-63144a63ec27"
      },
      "source": [
        "headers = {\"Ocp-Apim-Subscription-Key\": subscription_key}\n",
        "response = requests.post(language_api_url, headers=headers, json=documents)\n",
        "languages = response.json()\n",
        "pprint(languages)"
      ],
      "execution_count": null,
      "outputs": [
        {
          "output_type": "stream",
          "text": [
            "{'documents': [{'detectedLanguages': [{'iso6391Name': 'en',\n",
            "                                       'name': 'English',\n",
            "                                       'score': 1.0}],\n",
            "                'id': '1'},\n",
            "               {'detectedLanguages': [{'iso6391Name': 'es',\n",
            "                                       'name': 'Spanish',\n",
            "                                       'score': 1.0}],\n",
            "                'id': '2'},\n",
            "               {'detectedLanguages': [{'iso6391Name': 'zh_chs',\n",
            "                                       'name': 'Chinese_Simplified',\n",
            "                                       'score': 1.0}],\n",
            "                'id': '3'}],\n",
            " 'errors': []}\n"
          ],
          "name": "stdout"
        }
      ]
    },
    {
      "cell_type": "markdown",
      "metadata": {
        "id": "hOs3hS9SozO8",
        "colab_type": "text"
      },
      "source": [
        "### Analyze Sentiment"
      ]
    },
    {
      "cell_type": "code",
      "metadata": {
        "id": "lh22TYF7ozO9",
        "colab_type": "code",
        "colab": {}
      },
      "source": [
        "sentiment_url = endpoint + \"/text/analytics/v2.1/sentiment\""
      ],
      "execution_count": null,
      "outputs": []
    },
    {
      "cell_type": "code",
      "metadata": {
        "id": "DGMKtHGxozPC",
        "colab_type": "code",
        "colab": {}
      },
      "source": [
        "documents = {\"documents\": [\n",
        "    {\"id\": \"1\", \"language\": \"en\",\n",
        "        \"text\": \"I had a wonderful experience! The rooms were wonderful and the staff was helpful.\"},\n",
        "    {\"id\": \"2\", \"language\": \"en\",\n",
        "        \"text\": \"I had a terrible time at the hotel. The staff was rude and the food was awful.\"},\n",
        "    {\"id\": \"3\", \"language\": \"es\",\n",
        "        \"text\": \"Los caminos que llevan hasta Monte Rainier son espectaculares y hermosos.\"},\n",
        "    {\"id\": \"4\", \"language\": \"es\",\n",
        "     \"text\": \"La carretera estaba atascada. Había mucho tráfico el día de ayer.\"}\n",
        "]}"
      ],
      "execution_count": null,
      "outputs": []
    },
    {
      "cell_type": "code",
      "metadata": {
        "id": "9RyHZS9sozPF",
        "colab_type": "code",
        "colab": {},
        "outputId": "1c279804-7526-446c-c910-d8e8f750ff18"
      },
      "source": [
        "headers = {\"Ocp-Apim-Subscription-Key\": subscription_key}\n",
        "response = requests.post(sentiment_url, headers=headers, json=documents)\n",
        "sentiments = response.json()\n",
        "pprint(sentiments)"
      ],
      "execution_count": null,
      "outputs": [
        {
          "output_type": "stream",
          "text": [
            "{'documents': [{'id': '1', 'score': 0.9708490371704102},\n",
            "               {'id': '2', 'score': 0.0019068121910095215},\n",
            "               {'id': '3', 'score': 0.7456425428390503},\n",
            "               {'id': '4', 'score': 0.334433376789093}],\n",
            " 'errors': []}\n"
          ],
          "name": "stdout"
        }
      ]
    },
    {
      "cell_type": "markdown",
      "metadata": {
        "id": "X1-iIix6ozPJ",
        "colab_type": "text"
      },
      "source": [
        "### Analyze Key Phrases"
      ]
    },
    {
      "cell_type": "code",
      "metadata": {
        "id": "lhj9YZbjozPK",
        "colab_type": "code",
        "colab": {}
      },
      "source": [
        "keyphrase_url = endpoint + \"/text/analytics/v2.1/keyphrases\""
      ],
      "execution_count": null,
      "outputs": []
    },
    {
      "cell_type": "code",
      "metadata": {
        "id": "QW5sdPPyozPN",
        "colab_type": "code",
        "colab": {}
      },
      "source": [
        "documents = {\"documents\": [\n",
        "    {\"id\": \"1\", \"language\": \"en\",\n",
        "        \"text\": \"I had a wonderful experience! The rooms were wonderful and the staff was helpful.\"},\n",
        "    {\"id\": \"2\", \"language\": \"en\",\n",
        "        \"text\": \"I had a terrible time at the hotel. The staff was rude and the food was awful.\"},\n",
        "    {\"id\": \"3\", \"language\": \"es\",\n",
        "        \"text\": \"Los caminos que llevan hasta Monte Rainier son espectaculares y hermosos.\"},\n",
        "    {\"id\": \"4\", \"language\": \"es\",\n",
        "     \"text\": \"La carretera estaba atascada. Había mucho tráfico el día de ayer.\"}\n",
        "]}"
      ],
      "execution_count": null,
      "outputs": []
    },
    {
      "cell_type": "code",
      "metadata": {
        "id": "v0QYQs8RozPQ",
        "colab_type": "code",
        "colab": {},
        "outputId": "9a5478a9-6f35-4d0e-e650-abb377adfaf7"
      },
      "source": [
        "headers = {\"Ocp-Apim-Subscription-Key\": subscription_key}\n",
        "response = requests.post(keyphrase_url, headers=headers, json=documents)\n",
        "key_phrases = response.json()\n",
        "pprint(key_phrases)"
      ],
      "execution_count": null,
      "outputs": [
        {
          "output_type": "stream",
          "text": [
            "{'documents': [{'id': '1',\n",
            "                'keyPhrases': ['wonderful experience', 'staff', 'rooms']},\n",
            "               {'id': '2',\n",
            "                'keyPhrases': ['food', 'terrible time', 'hotel', 'staff']},\n",
            "               {'id': '3', 'keyPhrases': ['Monte Rainier', 'caminos']},\n",
            "               {'id': '4', 'keyPhrases': ['carretera', 'tráfico', 'día']}],\n",
            " 'errors': []}\n"
          ],
          "name": "stdout"
        }
      ]
    },
    {
      "cell_type": "markdown",
      "metadata": {
        "id": "I-dsd5UYozPT",
        "colab_type": "text"
      },
      "source": [
        "### Identify Entities"
      ]
    },
    {
      "cell_type": "code",
      "metadata": {
        "id": "ziapE-59ozPU",
        "colab_type": "code",
        "colab": {}
      },
      "source": [
        "entities_url = endpoint + \"/text/analytics/v2.1/entities\""
      ],
      "execution_count": null,
      "outputs": []
    },
    {
      "cell_type": "code",
      "metadata": {
        "id": "Q423w9CRozPX",
        "colab_type": "code",
        "colab": {}
      },
      "source": [
        "documents = {\"documents\": [\n",
        "    {\"id\": \"1\", \"text\": \"www.aple.com/ipad Microsoft was founded by Bill Gates and Paul Allen on April 4, 1975, to develop and sell BASIC interpreters for the Altair 8800.\"}\n",
        "]}"
      ],
      "execution_count": null,
      "outputs": []
    },
    {
      "cell_type": "code",
      "metadata": {
        "id": "R0GAYBEOozPZ",
        "colab_type": "code",
        "colab": {},
        "outputId": "b5f5b716-fed5-43be-f840-29c894ce50c4"
      },
      "source": [
        "headers = {\"Ocp-Apim-Subscription-Key\": subscription_key}\n",
        "response = requests.post(entities_url, headers=headers, json=documents)\n",
        "entities = response.json()\n",
        "pprint(entities)"
      ],
      "execution_count": null,
      "outputs": [
        {
          "output_type": "stream",
          "text": [
            "{'documents': [{'entities': [{'matches': [{'entityTypeScore': 0.8,\n",
            "                                           'length': 17,\n",
            "                                           'offset': 0,\n",
            "                                           'text': 'www.aple.com/ipad'}],\n",
            "                              'name': 'www.aple.com/ipad',\n",
            "                              'type': 'URL'},\n",
            "                             {'bingId': 'a093e9b9-90f5-a3d5-c4b8-5855e1b01f85',\n",
            "                              'matches': [{'entityTypeScore': 0.999755859375,\n",
            "                                           'length': 9,\n",
            "                                           'offset': 18,\n",
            "                                           'text': 'Microsoft',\n",
            "                                           'wikipediaScore': 0.40081861063362445}],\n",
            "                              'name': 'Microsoft',\n",
            "                              'type': 'Organization',\n",
            "                              'wikipediaId': 'Microsoft',\n",
            "                              'wikipediaLanguage': 'en',\n",
            "                              'wikipediaUrl': 'https://en.wikipedia.org/wiki/Microsoft'},\n",
            "                             {'bingId': '0d47c987-0042-5576-15e8-97af601614fa',\n",
            "                              'matches': [{'entityTypeScore': 0.9998779296875,\n",
            "                                           'length': 10,\n",
            "                                           'offset': 43,\n",
            "                                           'text': 'Bill Gates',\n",
            "                                           'wikipediaScore': 0.5042365369816251}],\n",
            "                              'name': 'Bill Gates',\n",
            "                              'type': 'Person',\n",
            "                              'wikipediaId': 'Bill Gates',\n",
            "                              'wikipediaLanguage': 'en',\n",
            "                              'wikipediaUrl': 'https://en.wikipedia.org/wiki/Bill_Gates'},\n",
            "                             {'bingId': 'df2c4376-9923-6a54-893f-2ee5a5badbc7',\n",
            "                              'matches': [{'entityTypeScore': 0.9988715052604675,\n",
            "                                           'length': 10,\n",
            "                                           'offset': 58,\n",
            "                                           'text': 'Paul Allen',\n",
            "                                           'wikipediaScore': 0.8311847128317496}],\n",
            "                              'name': 'Paul Allen',\n",
            "                              'type': 'Person',\n",
            "                              'wikipediaId': 'Paul Allen',\n",
            "                              'wikipediaLanguage': 'en',\n",
            "                              'wikipediaUrl': 'https://en.wikipedia.org/wiki/Paul_Allen'},\n",
            "                             {'bingId': '52535f87-235e-b513-54fe-c03e4233ac6e',\n",
            "                              'matches': [{'entityTypeScore': 0.8,\n",
            "                                           'length': 7,\n",
            "                                           'offset': 72,\n",
            "                                           'text': 'April 4',\n",
            "                                           'wikipediaScore': 0.6294448351443116}],\n",
            "                              'name': 'April 4',\n",
            "                              'type': 'Other',\n",
            "                              'wikipediaId': 'April 4',\n",
            "                              'wikipediaLanguage': 'en',\n",
            "                              'wikipediaUrl': 'https://en.wikipedia.org/wiki/April_4'},\n",
            "                             {'matches': [{'entityTypeScore': 0.8,\n",
            "                                           'length': 13,\n",
            "                                           'offset': 72,\n",
            "                                           'text': 'April 4, 1975'}],\n",
            "                              'name': 'April 4, 1975',\n",
            "                              'subType': 'Date',\n",
            "                              'type': 'DateTime'},\n",
            "                             {'bingId': '5b16443d-501c-58f3-352e-611bbe75aa6e',\n",
            "                              'matches': [{'entityTypeScore': 0.8,\n",
            "                                           'length': 5,\n",
            "                                           'offset': 107,\n",
            "                                           'text': 'BASIC',\n",
            "                                           'wikipediaScore': 0.27421070294658056}],\n",
            "                              'name': 'BASIC',\n",
            "                              'type': 'Other',\n",
            "                              'wikipediaId': 'BASIC',\n",
            "                              'wikipediaLanguage': 'en',\n",
            "                              'wikipediaUrl': 'https://en.wikipedia.org/wiki/BASIC'},\n",
            "                             {'bingId': '7216c654-3779-68a2-c7b7-12ff3dad5606',\n",
            "                              'matches': [{'entityTypeScore': 0.8,\n",
            "                                           'length': 11,\n",
            "                                           'offset': 134,\n",
            "                                           'text': 'Altair 8800',\n",
            "                                           'wikipediaScore': 0.773511769538662}],\n",
            "                              'name': 'Altair 8800',\n",
            "                              'type': 'Other',\n",
            "                              'wikipediaId': 'Altair 8800',\n",
            "                              'wikipediaLanguage': 'en',\n",
            "                              'wikipediaUrl': 'https://en.wikipedia.org/wiki/Altair_8800'},\n",
            "                             {'matches': [{'entityTypeScore': 0.5250527262687683,\n",
            "                                           'length': 6,\n",
            "                                           'offset': 134,\n",
            "                                           'text': 'Altair'}],\n",
            "                              'name': 'Altair',\n",
            "                              'type': 'Organization'},\n",
            "                             {'matches': [{'entityTypeScore': 0.8,\n",
            "                                           'length': 4,\n",
            "                                           'offset': 141,\n",
            "                                           'text': '8800'}],\n",
            "                              'name': '8800',\n",
            "                              'subType': 'Number',\n",
            "                              'type': 'Quantity'}],\n",
            "                'id': '1'}],\n",
            " 'errors': []}\n"
          ],
          "name": "stdout"
        }
      ]
    },
    {
      "cell_type": "code",
      "metadata": {
        "id": "hgVGZKOgozPc",
        "colab_type": "code",
        "colab": {}
      },
      "source": [
        "from json2html import *"
      ],
      "execution_count": null,
      "outputs": []
    },
    {
      "cell_type": "code",
      "metadata": {
        "id": "ynljo92xozPe",
        "colab_type": "code",
        "colab": {},
        "outputId": "50d4d416-f0e1-4a0f-da4b-d6f26efed333"
      },
      "source": [
        "json2html.convert(json = entities)"
      ],
      "execution_count": null,
      "outputs": [
        {
          "output_type": "execute_result",
          "data": {
            "text/plain": [
              "'<table border=\"1\"><tr><th>documents</th><td><table border=\"1\"><thead><tr><th>id</th><th>entities</th></tr></thead><tbody><tr><td>1</td><td><ul><li><table border=\"1\"><tr><th>name</th><td>www.aple.com/ipad</td></tr><tr><th>matches</th><td><table border=\"1\"><thead><tr><th>entityTypeScore</th><th>text</th><th>offset</th><th>length</th></tr></thead><tbody><tr><td>0.8</td><td>www.aple.com/ipad</td><td>0</td><td>17</td></tr></tbody></table></td></tr><tr><th>type</th><td>URL</td></tr></table></li><li><table border=\"1\"><tr><th>name</th><td>Microsoft</td></tr><tr><th>matches</th><td><table border=\"1\"><thead><tr><th>wikipediaScore</th><th>entityTypeScore</th><th>text</th><th>offset</th><th>length</th></tr></thead><tbody><tr><td>0.40081861063362445</td><td>0.999755859375</td><td>Microsoft</td><td>18</td><td>9</td></tr></tbody></table></td></tr><tr><th>wikipediaLanguage</th><td>en</td></tr><tr><th>wikipediaId</th><td>Microsoft</td></tr><tr><th>wikipediaUrl</th><td>https://en.wikipedia.org/wiki/Microsoft</td></tr><tr><th>bingId</th><td>a093e9b9-90f5-a3d5-c4b8-5855e1b01f85</td></tr><tr><th>type</th><td>Organization</td></tr></table></li><li><table border=\"1\"><tr><th>name</th><td>Bill Gates</td></tr><tr><th>matches</th><td><table border=\"1\"><thead><tr><th>wikipediaScore</th><th>entityTypeScore</th><th>text</th><th>offset</th><th>length</th></tr></thead><tbody><tr><td>0.5042365369816251</td><td>0.9998779296875</td><td>Bill Gates</td><td>43</td><td>10</td></tr></tbody></table></td></tr><tr><th>wikipediaLanguage</th><td>en</td></tr><tr><th>wikipediaId</th><td>Bill Gates</td></tr><tr><th>wikipediaUrl</th><td>https://en.wikipedia.org/wiki/Bill_Gates</td></tr><tr><th>bingId</th><td>0d47c987-0042-5576-15e8-97af601614fa</td></tr><tr><th>type</th><td>Person</td></tr></table></li><li><table border=\"1\"><tr><th>name</th><td>Paul Allen</td></tr><tr><th>matches</th><td><table border=\"1\"><thead><tr><th>wikipediaScore</th><th>entityTypeScore</th><th>text</th><th>offset</th><th>length</th></tr></thead><tbody><tr><td>0.8311847128317496</td><td>0.9988715052604675</td><td>Paul Allen</td><td>58</td><td>10</td></tr></tbody></table></td></tr><tr><th>wikipediaLanguage</th><td>en</td></tr><tr><th>wikipediaId</th><td>Paul Allen</td></tr><tr><th>wikipediaUrl</th><td>https://en.wikipedia.org/wiki/Paul_Allen</td></tr><tr><th>bingId</th><td>df2c4376-9923-6a54-893f-2ee5a5badbc7</td></tr><tr><th>type</th><td>Person</td></tr></table></li><li><table border=\"1\"><tr><th>name</th><td>April 4</td></tr><tr><th>matches</th><td><table border=\"1\"><thead><tr><th>wikipediaScore</th><th>entityTypeScore</th><th>text</th><th>offset</th><th>length</th></tr></thead><tbody><tr><td>0.6294448351443116</td><td>0.8</td><td>April 4</td><td>72</td><td>7</td></tr></tbody></table></td></tr><tr><th>wikipediaLanguage</th><td>en</td></tr><tr><th>wikipediaId</th><td>April 4</td></tr><tr><th>wikipediaUrl</th><td>https://en.wikipedia.org/wiki/April_4</td></tr><tr><th>bingId</th><td>52535f87-235e-b513-54fe-c03e4233ac6e</td></tr><tr><th>type</th><td>Other</td></tr></table></li><li><table border=\"1\"><tr><th>name</th><td>April 4, 1975</td></tr><tr><th>matches</th><td><table border=\"1\"><thead><tr><th>entityTypeScore</th><th>text</th><th>offset</th><th>length</th></tr></thead><tbody><tr><td>0.8</td><td>April 4, 1975</td><td>72</td><td>13</td></tr></tbody></table></td></tr><tr><th>type</th><td>DateTime</td></tr><tr><th>subType</th><td>Date</td></tr></table></li><li><table border=\"1\"><tr><th>name</th><td>BASIC</td></tr><tr><th>matches</th><td><table border=\"1\"><thead><tr><th>wikipediaScore</th><th>entityTypeScore</th><th>text</th><th>offset</th><th>length</th></tr></thead><tbody><tr><td>0.27421070294658056</td><td>0.8</td><td>BASIC</td><td>107</td><td>5</td></tr></tbody></table></td></tr><tr><th>wikipediaLanguage</th><td>en</td></tr><tr><th>wikipediaId</th><td>BASIC</td></tr><tr><th>wikipediaUrl</th><td>https://en.wikipedia.org/wiki/BASIC</td></tr><tr><th>bingId</th><td>5b16443d-501c-58f3-352e-611bbe75aa6e</td></tr><tr><th>type</th><td>Other</td></tr></table></li><li><table border=\"1\"><tr><th>name</th><td>Altair 8800</td></tr><tr><th>matches</th><td><table border=\"1\"><thead><tr><th>wikipediaScore</th><th>entityTypeScore</th><th>text</th><th>offset</th><th>length</th></tr></thead><tbody><tr><td>0.773511769538662</td><td>0.8</td><td>Altair 8800</td><td>134</td><td>11</td></tr></tbody></table></td></tr><tr><th>wikipediaLanguage</th><td>en</td></tr><tr><th>wikipediaId</th><td>Altair 8800</td></tr><tr><th>wikipediaUrl</th><td>https://en.wikipedia.org/wiki/Altair_8800</td></tr><tr><th>bingId</th><td>7216c654-3779-68a2-c7b7-12ff3dad5606</td></tr><tr><th>type</th><td>Other</td></tr></table></li><li><table border=\"1\"><tr><th>name</th><td>Altair</td></tr><tr><th>matches</th><td><table border=\"1\"><thead><tr><th>entityTypeScore</th><th>text</th><th>offset</th><th>length</th></tr></thead><tbody><tr><td>0.5250527262687683</td><td>Altair</td><td>134</td><td>6</td></tr></tbody></table></td></tr><tr><th>type</th><td>Organization</td></tr></table></li><li><table border=\"1\"><tr><th>name</th><td>8800</td></tr><tr><th>matches</th><td><table border=\"1\"><thead><tr><th>entityTypeScore</th><th>text</th><th>offset</th><th>length</th></tr></thead><tbody><tr><td>0.8</td><td>8800</td><td>141</td><td>4</td></tr></tbody></table></td></tr><tr><th>type</th><td>Quantity</td></tr><tr><th>subType</th><td>Number</td></tr></table></li></ul></td></tr></tbody></table></td></tr><tr><th>errors</th><td></td></tr></table>'"
            ]
          },
          "metadata": {
            "tags": []
          },
          "execution_count": 19
        }
      ]
    },
    {
      "cell_type": "code",
      "metadata": {
        "id": "L9SPkVzEozPh",
        "colab_type": "code",
        "colab": {}
      },
      "source": [
        ""
      ],
      "execution_count": null,
      "outputs": []
    }
  ]
}