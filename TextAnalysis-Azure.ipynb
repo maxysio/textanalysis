{
 "cells": [
  {
   "cell_type": "code",
   "execution_count": 1,
   "metadata": {},
   "outputs": [],
   "source": [
    "import requests\n",
    "# pprint is used to format the JSON response\n",
    "from pprint import pprint"
   ]
  },
  {
   "cell_type": "code",
   "execution_count": 2,
   "metadata": {},
   "outputs": [],
   "source": [
    "import os\n",
    "\n",
    "subscription_key = \"6ab0b5de8a634f3ca21446570ad5257f\"\n",
    "endpoint = \"https://resumtextanalytics.cognitiveservices.azure.com/\""
   ]
  },
  {
   "cell_type": "markdown",
   "metadata": {},
   "source": [
    "### Analyze Language"
   ]
  },
  {
   "cell_type": "code",
   "execution_count": 3,
   "metadata": {},
   "outputs": [],
   "source": [
    "language_api_url = endpoint + \"/text/analytics/v2.1/languages\""
   ]
  },
  {
   "cell_type": "code",
   "execution_count": 4,
   "metadata": {},
   "outputs": [],
   "source": [
    "documents = {\"documents\": [\n",
    "    {\"id\": \"1\", \"text\": \"This is a document written in English.\"},\n",
    "    {\"id\": \"2\", \"text\": \"Este es un document escrito en Español.\"},\n",
    "    {\"id\": \"3\", \"text\": \"这是一个用中文写的文件\"}\n",
    "]}"
   ]
  },
  {
   "cell_type": "code",
   "execution_count": 5,
   "metadata": {},
   "outputs": [
    {
     "name": "stdout",
     "output_type": "stream",
     "text": [
      "{'documents': [{'detectedLanguages': [{'iso6391Name': 'en',\n",
      "                                       'name': 'English',\n",
      "                                       'score': 1.0}],\n",
      "                'id': '1'},\n",
      "               {'detectedLanguages': [{'iso6391Name': 'es',\n",
      "                                       'name': 'Spanish',\n",
      "                                       'score': 1.0}],\n",
      "                'id': '2'},\n",
      "               {'detectedLanguages': [{'iso6391Name': 'zh_chs',\n",
      "                                       'name': 'Chinese_Simplified',\n",
      "                                       'score': 1.0}],\n",
      "                'id': '3'}],\n",
      " 'errors': []}\n"
     ]
    }
   ],
   "source": [
    "headers = {\"Ocp-Apim-Subscription-Key\": subscription_key}\n",
    "response = requests.post(language_api_url, headers=headers, json=documents)\n",
    "languages = response.json()\n",
    "pprint(languages)"
   ]
  },
  {
   "cell_type": "markdown",
   "metadata": {},
   "source": [
    "### Analyze Sentiment"
   ]
  },
  {
   "cell_type": "code",
   "execution_count": 6,
   "metadata": {},
   "outputs": [],
   "source": [
    "sentiment_url = endpoint + \"/text/analytics/v2.1/sentiment\""
   ]
  },
  {
   "cell_type": "code",
   "execution_count": 7,
   "metadata": {},
   "outputs": [],
   "source": [
    "documents = {\"documents\": [\n",
    "    {\"id\": \"1\", \"language\": \"en\",\n",
    "        \"text\": \"I had a wonderful experience! The rooms were wonderful and the staff was helpful.\"},\n",
    "    {\"id\": \"2\", \"language\": \"en\",\n",
    "        \"text\": \"I had a terrible time at the hotel. The staff was rude and the food was awful.\"},\n",
    "    {\"id\": \"3\", \"language\": \"es\",\n",
    "        \"text\": \"Los caminos que llevan hasta Monte Rainier son espectaculares y hermosos.\"},\n",
    "    {\"id\": \"4\", \"language\": \"es\",\n",
    "     \"text\": \"La carretera estaba atascada. Había mucho tráfico el día de ayer.\"}\n",
    "]}"
   ]
  },
  {
   "cell_type": "code",
   "execution_count": 8,
   "metadata": {},
   "outputs": [
    {
     "name": "stdout",
     "output_type": "stream",
     "text": [
      "{'documents': [{'id': '1', 'score': 0.9708490371704102},\n",
      "               {'id': '2', 'score': 0.0019068121910095215},\n",
      "               {'id': '3', 'score': 0.7456425428390503},\n",
      "               {'id': '4', 'score': 0.334433376789093}],\n",
      " 'errors': []}\n"
     ]
    }
   ],
   "source": [
    "headers = {\"Ocp-Apim-Subscription-Key\": subscription_key}\n",
    "response = requests.post(sentiment_url, headers=headers, json=documents)\n",
    "sentiments = response.json()\n",
    "pprint(sentiments)"
   ]
  },
  {
   "cell_type": "markdown",
   "metadata": {},
   "source": [
    "### Analyze Key Phrases"
   ]
  },
  {
   "cell_type": "code",
   "execution_count": 9,
   "metadata": {},
   "outputs": [],
   "source": [
    "keyphrase_url = endpoint + \"/text/analytics/v2.1/keyphrases\""
   ]
  },
  {
   "cell_type": "code",
   "execution_count": 10,
   "metadata": {},
   "outputs": [],
   "source": [
    "documents = {\"documents\": [\n",
    "    {\"id\": \"1\", \"language\": \"en\",\n",
    "        \"text\": \"I had a wonderful experience! The rooms were wonderful and the staff was helpful.\"},\n",
    "    {\"id\": \"2\", \"language\": \"en\",\n",
    "        \"text\": \"I had a terrible time at the hotel. The staff was rude and the food was awful.\"},\n",
    "    {\"id\": \"3\", \"language\": \"es\",\n",
    "        \"text\": \"Los caminos que llevan hasta Monte Rainier son espectaculares y hermosos.\"},\n",
    "    {\"id\": \"4\", \"language\": \"es\",\n",
    "     \"text\": \"La carretera estaba atascada. Había mucho tráfico el día de ayer.\"}\n",
    "]}"
   ]
  },
  {
   "cell_type": "code",
   "execution_count": 11,
   "metadata": {},
   "outputs": [
    {
     "name": "stdout",
     "output_type": "stream",
     "text": [
      "{'documents': [{'id': '1',\n",
      "                'keyPhrases': ['wonderful experience', 'staff', 'rooms']},\n",
      "               {'id': '2',\n",
      "                'keyPhrases': ['food', 'terrible time', 'hotel', 'staff']},\n",
      "               {'id': '3', 'keyPhrases': ['Monte Rainier', 'caminos']},\n",
      "               {'id': '4', 'keyPhrases': ['carretera', 'tráfico', 'día']}],\n",
      " 'errors': []}\n"
     ]
    }
   ],
   "source": [
    "headers = {\"Ocp-Apim-Subscription-Key\": subscription_key}\n",
    "response = requests.post(keyphrase_url, headers=headers, json=documents)\n",
    "key_phrases = response.json()\n",
    "pprint(key_phrases)"
   ]
  },
  {
   "cell_type": "markdown",
   "metadata": {},
   "source": [
    "### Identify Entities"
   ]
  },
  {
   "cell_type": "code",
   "execution_count": 12,
   "metadata": {},
   "outputs": [],
   "source": [
    "entities_url = endpoint + \"/text/analytics/v2.1/entities\""
   ]
  },
  {
   "cell_type": "code",
   "execution_count": 15,
   "metadata": {},
   "outputs": [],
   "source": [
    "documents = {\"documents\": [\n",
    "    {\"id\": \"1\", \"text\": \"www.aple.com/ipad Microsoft was founded by Bill Gates and Paul Allen on April 4, 1975, to develop and sell BASIC interpreters for the Altair 8800.\"}\n",
    "]}"
   ]
  },
  {
   "cell_type": "code",
   "execution_count": 16,
   "metadata": {},
   "outputs": [
    {
     "name": "stdout",
     "output_type": "stream",
     "text": [
      "{'documents': [{'entities': [{'matches': [{'entityTypeScore': 0.8,\n",
      "                                           'length': 17,\n",
      "                                           'offset': 0,\n",
      "                                           'text': 'www.aple.com/ipad'}],\n",
      "                              'name': 'www.aple.com/ipad',\n",
      "                              'type': 'URL'},\n",
      "                             {'bingId': 'a093e9b9-90f5-a3d5-c4b8-5855e1b01f85',\n",
      "                              'matches': [{'entityTypeScore': 0.999755859375,\n",
      "                                           'length': 9,\n",
      "                                           'offset': 18,\n",
      "                                           'text': 'Microsoft',\n",
      "                                           'wikipediaScore': 0.40081861063362445}],\n",
      "                              'name': 'Microsoft',\n",
      "                              'type': 'Organization',\n",
      "                              'wikipediaId': 'Microsoft',\n",
      "                              'wikipediaLanguage': 'en',\n",
      "                              'wikipediaUrl': 'https://en.wikipedia.org/wiki/Microsoft'},\n",
      "                             {'bingId': '0d47c987-0042-5576-15e8-97af601614fa',\n",
      "                              'matches': [{'entityTypeScore': 0.9998779296875,\n",
      "                                           'length': 10,\n",
      "                                           'offset': 43,\n",
      "                                           'text': 'Bill Gates',\n",
      "                                           'wikipediaScore': 0.5042365369816251}],\n",
      "                              'name': 'Bill Gates',\n",
      "                              'type': 'Person',\n",
      "                              'wikipediaId': 'Bill Gates',\n",
      "                              'wikipediaLanguage': 'en',\n",
      "                              'wikipediaUrl': 'https://en.wikipedia.org/wiki/Bill_Gates'},\n",
      "                             {'bingId': 'df2c4376-9923-6a54-893f-2ee5a5badbc7',\n",
      "                              'matches': [{'entityTypeScore': 0.9988715052604675,\n",
      "                                           'length': 10,\n",
      "                                           'offset': 58,\n",
      "                                           'text': 'Paul Allen',\n",
      "                                           'wikipediaScore': 0.8311847128317496}],\n",
      "                              'name': 'Paul Allen',\n",
      "                              'type': 'Person',\n",
      "                              'wikipediaId': 'Paul Allen',\n",
      "                              'wikipediaLanguage': 'en',\n",
      "                              'wikipediaUrl': 'https://en.wikipedia.org/wiki/Paul_Allen'},\n",
      "                             {'bingId': '52535f87-235e-b513-54fe-c03e4233ac6e',\n",
      "                              'matches': [{'entityTypeScore': 0.8,\n",
      "                                           'length': 7,\n",
      "                                           'offset': 72,\n",
      "                                           'text': 'April 4',\n",
      "                                           'wikipediaScore': 0.6294448351443116}],\n",
      "                              'name': 'April 4',\n",
      "                              'type': 'Other',\n",
      "                              'wikipediaId': 'April 4',\n",
      "                              'wikipediaLanguage': 'en',\n",
      "                              'wikipediaUrl': 'https://en.wikipedia.org/wiki/April_4'},\n",
      "                             {'matches': [{'entityTypeScore': 0.8,\n",
      "                                           'length': 13,\n",
      "                                           'offset': 72,\n",
      "                                           'text': 'April 4, 1975'}],\n",
      "                              'name': 'April 4, 1975',\n",
      "                              'subType': 'Date',\n",
      "                              'type': 'DateTime'},\n",
      "                             {'bingId': '5b16443d-501c-58f3-352e-611bbe75aa6e',\n",
      "                              'matches': [{'entityTypeScore': 0.8,\n",
      "                                           'length': 5,\n",
      "                                           'offset': 107,\n",
      "                                           'text': 'BASIC',\n",
      "                                           'wikipediaScore': 0.27421070294658056}],\n",
      "                              'name': 'BASIC',\n",
      "                              'type': 'Other',\n",
      "                              'wikipediaId': 'BASIC',\n",
      "                              'wikipediaLanguage': 'en',\n",
      "                              'wikipediaUrl': 'https://en.wikipedia.org/wiki/BASIC'},\n",
      "                             {'bingId': '7216c654-3779-68a2-c7b7-12ff3dad5606',\n",
      "                              'matches': [{'entityTypeScore': 0.8,\n",
      "                                           'length': 11,\n",
      "                                           'offset': 134,\n",
      "                                           'text': 'Altair 8800',\n",
      "                                           'wikipediaScore': 0.773511769538662}],\n",
      "                              'name': 'Altair 8800',\n",
      "                              'type': 'Other',\n",
      "                              'wikipediaId': 'Altair 8800',\n",
      "                              'wikipediaLanguage': 'en',\n",
      "                              'wikipediaUrl': 'https://en.wikipedia.org/wiki/Altair_8800'},\n",
      "                             {'matches': [{'entityTypeScore': 0.5250527262687683,\n",
      "                                           'length': 6,\n",
      "                                           'offset': 134,\n",
      "                                           'text': 'Altair'}],\n",
      "                              'name': 'Altair',\n",
      "                              'type': 'Organization'},\n",
      "                             {'matches': [{'entityTypeScore': 0.8,\n",
      "                                           'length': 4,\n",
      "                                           'offset': 141,\n",
      "                                           'text': '8800'}],\n",
      "                              'name': '8800',\n",
      "                              'subType': 'Number',\n",
      "                              'type': 'Quantity'}],\n",
      "                'id': '1'}],\n",
      " 'errors': []}\n"
     ]
    }
   ],
   "source": [
    "headers = {\"Ocp-Apim-Subscription-Key\": subscription_key}\n",
    "response = requests.post(entities_url, headers=headers, json=documents)\n",
    "entities = response.json()\n",
    "pprint(entities)"
   ]
  },
  {
   "cell_type": "code",
   "execution_count": 17,
   "metadata": {},
   "outputs": [],
   "source": [
    "from json2html import *"
   ]
  },
  {
   "cell_type": "code",
   "execution_count": 19,
   "metadata": {},
   "outputs": [
    {
     "data": {
      "text/plain": [
       "'<table border=\"1\"><tr><th>documents</th><td><table border=\"1\"><thead><tr><th>id</th><th>entities</th></tr></thead><tbody><tr><td>1</td><td><ul><li><table border=\"1\"><tr><th>name</th><td>www.aple.com/ipad</td></tr><tr><th>matches</th><td><table border=\"1\"><thead><tr><th>entityTypeScore</th><th>text</th><th>offset</th><th>length</th></tr></thead><tbody><tr><td>0.8</td><td>www.aple.com/ipad</td><td>0</td><td>17</td></tr></tbody></table></td></tr><tr><th>type</th><td>URL</td></tr></table></li><li><table border=\"1\"><tr><th>name</th><td>Microsoft</td></tr><tr><th>matches</th><td><table border=\"1\"><thead><tr><th>wikipediaScore</th><th>entityTypeScore</th><th>text</th><th>offset</th><th>length</th></tr></thead><tbody><tr><td>0.40081861063362445</td><td>0.999755859375</td><td>Microsoft</td><td>18</td><td>9</td></tr></tbody></table></td></tr><tr><th>wikipediaLanguage</th><td>en</td></tr><tr><th>wikipediaId</th><td>Microsoft</td></tr><tr><th>wikipediaUrl</th><td>https://en.wikipedia.org/wiki/Microsoft</td></tr><tr><th>bingId</th><td>a093e9b9-90f5-a3d5-c4b8-5855e1b01f85</td></tr><tr><th>type</th><td>Organization</td></tr></table></li><li><table border=\"1\"><tr><th>name</th><td>Bill Gates</td></tr><tr><th>matches</th><td><table border=\"1\"><thead><tr><th>wikipediaScore</th><th>entityTypeScore</th><th>text</th><th>offset</th><th>length</th></tr></thead><tbody><tr><td>0.5042365369816251</td><td>0.9998779296875</td><td>Bill Gates</td><td>43</td><td>10</td></tr></tbody></table></td></tr><tr><th>wikipediaLanguage</th><td>en</td></tr><tr><th>wikipediaId</th><td>Bill Gates</td></tr><tr><th>wikipediaUrl</th><td>https://en.wikipedia.org/wiki/Bill_Gates</td></tr><tr><th>bingId</th><td>0d47c987-0042-5576-15e8-97af601614fa</td></tr><tr><th>type</th><td>Person</td></tr></table></li><li><table border=\"1\"><tr><th>name</th><td>Paul Allen</td></tr><tr><th>matches</th><td><table border=\"1\"><thead><tr><th>wikipediaScore</th><th>entityTypeScore</th><th>text</th><th>offset</th><th>length</th></tr></thead><tbody><tr><td>0.8311847128317496</td><td>0.9988715052604675</td><td>Paul Allen</td><td>58</td><td>10</td></tr></tbody></table></td></tr><tr><th>wikipediaLanguage</th><td>en</td></tr><tr><th>wikipediaId</th><td>Paul Allen</td></tr><tr><th>wikipediaUrl</th><td>https://en.wikipedia.org/wiki/Paul_Allen</td></tr><tr><th>bingId</th><td>df2c4376-9923-6a54-893f-2ee5a5badbc7</td></tr><tr><th>type</th><td>Person</td></tr></table></li><li><table border=\"1\"><tr><th>name</th><td>April 4</td></tr><tr><th>matches</th><td><table border=\"1\"><thead><tr><th>wikipediaScore</th><th>entityTypeScore</th><th>text</th><th>offset</th><th>length</th></tr></thead><tbody><tr><td>0.6294448351443116</td><td>0.8</td><td>April 4</td><td>72</td><td>7</td></tr></tbody></table></td></tr><tr><th>wikipediaLanguage</th><td>en</td></tr><tr><th>wikipediaId</th><td>April 4</td></tr><tr><th>wikipediaUrl</th><td>https://en.wikipedia.org/wiki/April_4</td></tr><tr><th>bingId</th><td>52535f87-235e-b513-54fe-c03e4233ac6e</td></tr><tr><th>type</th><td>Other</td></tr></table></li><li><table border=\"1\"><tr><th>name</th><td>April 4, 1975</td></tr><tr><th>matches</th><td><table border=\"1\"><thead><tr><th>entityTypeScore</th><th>text</th><th>offset</th><th>length</th></tr></thead><tbody><tr><td>0.8</td><td>April 4, 1975</td><td>72</td><td>13</td></tr></tbody></table></td></tr><tr><th>type</th><td>DateTime</td></tr><tr><th>subType</th><td>Date</td></tr></table></li><li><table border=\"1\"><tr><th>name</th><td>BASIC</td></tr><tr><th>matches</th><td><table border=\"1\"><thead><tr><th>wikipediaScore</th><th>entityTypeScore</th><th>text</th><th>offset</th><th>length</th></tr></thead><tbody><tr><td>0.27421070294658056</td><td>0.8</td><td>BASIC</td><td>107</td><td>5</td></tr></tbody></table></td></tr><tr><th>wikipediaLanguage</th><td>en</td></tr><tr><th>wikipediaId</th><td>BASIC</td></tr><tr><th>wikipediaUrl</th><td>https://en.wikipedia.org/wiki/BASIC</td></tr><tr><th>bingId</th><td>5b16443d-501c-58f3-352e-611bbe75aa6e</td></tr><tr><th>type</th><td>Other</td></tr></table></li><li><table border=\"1\"><tr><th>name</th><td>Altair 8800</td></tr><tr><th>matches</th><td><table border=\"1\"><thead><tr><th>wikipediaScore</th><th>entityTypeScore</th><th>text</th><th>offset</th><th>length</th></tr></thead><tbody><tr><td>0.773511769538662</td><td>0.8</td><td>Altair 8800</td><td>134</td><td>11</td></tr></tbody></table></td></tr><tr><th>wikipediaLanguage</th><td>en</td></tr><tr><th>wikipediaId</th><td>Altair 8800</td></tr><tr><th>wikipediaUrl</th><td>https://en.wikipedia.org/wiki/Altair_8800</td></tr><tr><th>bingId</th><td>7216c654-3779-68a2-c7b7-12ff3dad5606</td></tr><tr><th>type</th><td>Other</td></tr></table></li><li><table border=\"1\"><tr><th>name</th><td>Altair</td></tr><tr><th>matches</th><td><table border=\"1\"><thead><tr><th>entityTypeScore</th><th>text</th><th>offset</th><th>length</th></tr></thead><tbody><tr><td>0.5250527262687683</td><td>Altair</td><td>134</td><td>6</td></tr></tbody></table></td></tr><tr><th>type</th><td>Organization</td></tr></table></li><li><table border=\"1\"><tr><th>name</th><td>8800</td></tr><tr><th>matches</th><td><table border=\"1\"><thead><tr><th>entityTypeScore</th><th>text</th><th>offset</th><th>length</th></tr></thead><tbody><tr><td>0.8</td><td>8800</td><td>141</td><td>4</td></tr></tbody></table></td></tr><tr><th>type</th><td>Quantity</td></tr><tr><th>subType</th><td>Number</td></tr></table></li></ul></td></tr></tbody></table></td></tr><tr><th>errors</th><td></td></tr></table>'"
      ]
     },
     "execution_count": 19,
     "metadata": {},
     "output_type": "execute_result"
    }
   ],
   "source": [
    "json2html.convert(json = entities)"
   ]
  },
  {
   "cell_type": "code",
   "execution_count": null,
   "metadata": {},
   "outputs": [],
   "source": []
  }
 ],
 "metadata": {
  "kernelspec": {
   "display_name": "Python 3",
   "language": "python",
   "name": "python3"
  },
  "language_info": {
   "codemirror_mode": {
    "name": "ipython",
    "version": 3
   },
   "file_extension": ".py",
   "mimetype": "text/x-python",
   "name": "python",
   "nbconvert_exporter": "python",
   "pygments_lexer": "ipython3",
   "version": "3.7.6"
  }
 },
 "nbformat": 4,
 "nbformat_minor": 4
}
